{
 "cells": [
  {
   "cell_type": "code",
   "execution_count": 8,
   "id": "92b35886",
   "metadata": {},
   "outputs": [],
   "source": [
    "\n",
    "\n",
    "class Calculadora:\n",
    "    \"Calculadora de 4 operaciones: suma, resta, multiplicación, división\"\n",
    "    \n",
    "    def Suma(self, a,b):\n",
    "        return a+b\n",
    "    \n",
    "    def Resta(self, a,b):\n",
    "        return a-b\n",
    "    \n",
    "    def Mult(self, a,b):\n",
    "        return a*b\n",
    "    \n",
    "    def Division(self, a,b):\n",
    "        if b == 0:\n",
    "            print(\"No es posible dividir entre 0\")\n",
    "        else:\n",
    "            return a/b\n",
    "    \n",
    "    def Raiz(self, a,b):\n",
    "        if b == 0:\n",
    "            print(\"No es posible realizar la operacion\")\n",
    "        else:\n",
    "            return a**(1/b)\n",
    "        \n",
    "    def Potencia(self,a ,b):\n",
    "        if b and a == 0:\n",
    "            print(\"indefinido\")\n",
    "        else: \n",
    "            return a**b"
   ]
  }
 ],
 "metadata": {
  "kernelspec": {
   "display_name": "Python 3 (ipykernel)",
   "language": "python",
   "name": "python3"
  },
  "language_info": {
   "codemirror_mode": {
    "name": "ipython",
    "version": 3
   },
   "file_extension": ".py",
   "mimetype": "text/x-python",
   "name": "python",
   "nbconvert_exporter": "python",
   "pygments_lexer": "ipython3",
   "version": "3.9.12"
  }
 },
 "nbformat": 4,
 "nbformat_minor": 5
}
