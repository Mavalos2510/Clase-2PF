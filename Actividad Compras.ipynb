{
 "cells": [
  {
   "cell_type": "code",
   "execution_count": 11,
   "metadata": {},
   "outputs": [
    {
     "name": "stdout",
     "output_type": "stream",
     "text": [
      "La cantidad es inválida. La cantidad debe ser positiva\n",
      "Su total excede los $1000, se aplicó un 10% de descuento. El monto a pagar es de:  909.0\n"
     ]
    }
   ],
   "source": [
    "monto = float(input(\"Ingrese el monto de la compra (0 para salir): \"))\n",
    "total = 0\n",
    "\n",
    "while monto != 0:\n",
    "    while monto < 0:\n",
    "        print(\"La cantidad es inválida. La cantidad debe ser positiva\")\n",
    "        monto = float(input(\"Ingrese el monto de la compra: \"))\n",
    "    \n",
    "    total = total + monto\n",
    "    monto = float(input(\"Ingrese el monto de la compra (0 para salir): \"))\n",
    "\n",
    "\n",
    "if total > 1000:\n",
    "    total = total*0.90\n",
    "    print(\"Su total excede los $1000, se aplicó un 10% de descuento. El monto a pagar es de: \", total)\n",
    "else:\n",
    "    print(\"El monto a pagar es de: \", total)"
   ]
  },
  {
   "cell_type": "code",
   "execution_count": null,
   "metadata": {},
   "outputs": [],
   "source": []
  }
 ],
 "metadata": {
  "kernelspec": {
   "display_name": "Python 3.9.12 ('base')",
   "language": "python",
   "name": "python3"
  },
  "language_info": {
   "codemirror_mode": {
    "name": "ipython",
    "version": 3
   },
   "file_extension": ".py",
   "mimetype": "text/x-python",
   "name": "python",
   "nbconvert_exporter": "python",
   "pygments_lexer": "ipython3",
   "version": "3.9.12"
  },
  "orig_nbformat": 4,
  "vscode": {
   "interpreter": {
    "hash": "29c897866ef87cec49b40e1ca8aed0914ba80b52099b760ffd407fc44dffaf16"
   }
  }
 },
 "nbformat": 4,
 "nbformat_minor": 2
}
