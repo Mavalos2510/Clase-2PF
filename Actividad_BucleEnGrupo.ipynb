{
 "cells": [
  {
   "cell_type": "code",
   "execution_count": 3,
   "metadata": {},
   "outputs": [],
   "source": [
    "from random import randint\n",
    "\n",
    "\n",
    "llaves = [\"Paco\", \"Yolanda\", \"Julio\", \"Victor\", \"Gerardo\", \"Jonathan\",\"Claudia\", \"Ana\"]"
   ]
  },
  {
   "cell_type": "code",
   "execution_count": 5,
   "metadata": {},
   "outputs": [],
   "source": [
    "dic1 = dict.fromkeys(llaves)"
   ]
  },
  {
   "cell_type": "code",
   "execution_count": 10,
   "metadata": {},
   "outputs": [
    {
     "data": {
      "text/plain": [
       "{'Paco': 8,\n",
       " 'Yolanda': 16,\n",
       " 'Julio': 10,\n",
       " 'Victor': 10,\n",
       " 'Gerardo': 16,\n",
       " 'Jonathan': 5,\n",
       " 'Claudia': 15,\n",
       " 'Ana': 7}"
      ]
     },
     "execution_count": 10,
     "metadata": {},
     "output_type": "execute_result"
    }
   ],
   "source": [
    "for i in dic1:\n",
    "    dic1[i] = randint(1,20)"
   ]
  },
  {
   "cell_type": "code",
   "execution_count": 15,
   "metadata": {},
   "outputs": [
    {
     "name": "stdout",
     "output_type": "stream",
     "text": [
      "Paco eligió el número:  8\n",
      "Yolanda eligió el número:  16\n",
      "Julio eligió el número:  10\n",
      "Victor eligió el número:  10\n",
      "Gerardo eligió el número:  16\n",
      "Jonathan eligió el número:  5\n",
      "Claudia eligió el número:  15\n",
      "Ana eligió el número:  7\n"
     ]
    }
   ],
   "source": [
    "for i,j in dic1.items():\n",
    "    print(i, \"eligió el número: \", j)"
   ]
  },
  {
   "cell_type": "code",
   "execution_count": 16,
   "metadata": {},
   "outputs": [
    {
     "name": "stdout",
     "output_type": "stream",
     "text": [
      "El número máximo es:  16 y el número mínimo es:  5\n"
     ]
    }
   ],
   "source": [
    "nummax = max(dic1.values())\n",
    "nummin = min(dic1.values())\n",
    "print(\"El número máximo es: \", nummax, \"y el número mínimo es: \",nummin)"
   ]
  }
 ],
 "metadata": {
  "kernelspec": {
   "display_name": "Python 3.10.5 64-bit",
   "language": "python",
   "name": "python3"
  },
  "language_info": {
   "codemirror_mode": {
    "name": "ipython",
    "version": 3
   },
   "file_extension": ".py",
   "mimetype": "text/x-python",
   "name": "python",
   "nbconvert_exporter": "python",
   "pygments_lexer": "ipython3",
   "version": "3.10.5"
  },
  "orig_nbformat": 4,
  "vscode": {
   "interpreter": {
    "hash": "5dca2f6d84ab8f6c4de7dd9be0735227e52e7f113407d882989ff72b823c1fa1"
   }
  }
 },
 "nbformat": 4,
 "nbformat_minor": 2
}
