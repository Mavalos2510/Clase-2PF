{
 "cells": [
  {
   "cell_type": "markdown",
   "id": "2b6cfeb1",
   "metadata": {},
   "source": [
    "# Problemas"
   ]
  },
  {
   "cell_type": "code",
   "execution_count": 4,
   "id": "d600c396",
   "metadata": {},
   "outputs": [
    {
     "name": "stdout",
     "output_type": "stream",
     "text": [
      "Mi edad es:  12.0\n"
     ]
    }
   ],
   "source": [
    "#El doble de mi edad es 24, declaramos x como la edad y al ser el doble se divide entre 2\n",
    "x = 24/2\n",
    "print(\"Mi edad es: \",x)"
   ]
  },
  {
   "cell_type": "code",
   "execution_count": 3,
   "id": "c9fa749c",
   "metadata": {},
   "outputs": [
    {
     "name": "stdout",
     "output_type": "stream",
     "text": [
      "La edad de mi hermana es:  63\n"
     ]
    }
   ],
   "source": [
    "#A un tercio de la edad de mi hermana la disminuyo en 15 años. tengo 6 años ¿Qué edad tiene?\n",
    "#declaramos y como la edad de la hermana, y revertimos el proceso\n",
    "y = (6 + 15)*3\n",
    "print(\"La edad de mi hermana es: \", y)"
   ]
  },
  {
   "cell_type": "code",
   "execution_count": 9,
   "id": "c3bceb74",
   "metadata": {},
   "outputs": [
    {
     "name": "stdout",
     "output_type": "stream",
     "text": [
      "la edad de  63 es mas grande\n"
     ]
    }
   ],
   "source": [
    "#Si x es 12 y y 63, las comparamos\n",
    "if(x>y):\n",
    "    print(\"la edad de\",x,\"es mas grande\")\n",
    "else:\n",
    "    print(\"la edad de \",y, \"es mas grande\")"
   ]
  },
  {
   "cell_type": "markdown",
   "id": "1595193c",
   "metadata": {},
   "source": [
    "## Actividad 8"
   ]
  },
  {
   "cell_type": "code",
   "execution_count": 23,
   "id": "ba86c48b",
   "metadata": {},
   "outputs": [
    {
     "name": "stdout",
     "output_type": "stream",
     "text": [
      "Cuantos años tienes?20\n",
      "Ya eres mayor de edad\n"
     ]
    }
   ],
   "source": [
    "a = int(input(\"Cuantos años tienes?\"))\n",
    "if(a < 18):\n",
    "    print(\"Aun no eres mayor de edad\")\n",
    "else:\n",
    "    print(\"Ya eres mayor de edad\")"
   ]
  },
  {
   "cell_type": "markdown",
   "id": "4a10beb5",
   "metadata": {},
   "source": [
    "## Actividad 9"
   ]
  },
  {
   "cell_type": "code",
   "execution_count": 3,
   "id": "200536f1",
   "metadata": {},
   "outputs": [
    {
     "name": "stdout",
     "output_type": "stream",
     "text": [
      "Ingrese el primer numero: 3\n",
      "Ingrese el segundo numero: 10\n",
      "El segundo numero: 10 es mayor al primero: 3\n"
     ]
    }
   ],
   "source": [
    "a = int(input(\"Ingrese el primer numero: \"))\n",
    "b = int(input(\"Ingrese el segundo numero: \"))\n",
    "\n",
    "if(a>b):\n",
    "    print(\"El primer numero: {0} es mayor al segundo: {1}\".format(a,b))\n",
    "elif(a<b):\n",
    "    print(\"El segundo numero: {0} es mayor al primero: {1}\".format(b,a))\n",
    "else:\n",
    "    print(\"El primer numero: {0} es igual al segundo: {1}\".format(a,b))"
   ]
  },
  {
   "cell_type": "code",
   "execution_count": null,
   "id": "4bbcc4f8",
   "metadata": {},
   "outputs": [],
   "source": []
  }
 ],
 "metadata": {
  "kernelspec": {
   "display_name": "Python 3 (ipykernel)",
   "language": "python",
   "name": "python3"
  },
  "language_info": {
   "codemirror_mode": {
    "name": "ipython",
    "version": 3
   },
   "file_extension": ".py",
   "mimetype": "text/x-python",
   "name": "python",
   "nbconvert_exporter": "python",
   "pygments_lexer": "ipython3",
   "version": "3.9.12"
  }
 },
 "nbformat": 4,
 "nbformat_minor": 5
}
