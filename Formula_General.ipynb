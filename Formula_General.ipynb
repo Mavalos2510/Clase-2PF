{
 "cells": [
  {
   "cell_type": "code",
   "execution_count": 17,
   "metadata": {},
   "outputs": [],
   "source": [
    "import cmath as cmt\n",
    "import math as mt\n",
    "def f_general(a,b,c):\n",
    "    if (b**2 - 4*a*c) < 0:\n",
    "        print(\"Las raíces son imaginarias.\")\n",
    "        x1 = (b + cmt.sqrt(b**2 - 4*a*c))/(2*a)\n",
    "        x2 = (b - cmt.sqrt(b**2 - 4*a*c))/(2*a)\n",
    "        print(\"El valor de x1 es: {0}\\nEl valor de x2 es: {1}\".format(x1,x2))\n",
    "    else:\n",
    "        x1 = (b + mt.sqrt(b**2 - 4*a*c))/(2*a)\n",
    "        x2 = (b - mt.sqrt(b**2 - 4*a*c))/(2*a)\n",
    "        print(\"El valor de x1 es: {0}\\nEl valor de x2 es: {1}\".format(x1,x2))\n"
   ]
  },
  {
   "cell_type": "code",
   "execution_count": 19,
   "metadata": {},
   "outputs": [
    {
     "name": "stdout",
     "output_type": "stream",
     "text": [
      "El valor de x1 es: 5.0\n",
      "El valor de x2 es: -5.0\n"
     ]
    }
   ],
   "source": [
    "f_general(1,0,-25)"
   ]
  }
 ],
 "metadata": {
  "kernelspec": {
   "display_name": "Python 3.9.12 ('base')",
   "language": "python",
   "name": "python3"
  },
  "language_info": {
   "codemirror_mode": {
    "name": "ipython",
    "version": 3
   },
   "file_extension": ".py",
   "mimetype": "text/x-python",
   "name": "python",
   "nbconvert_exporter": "python",
   "pygments_lexer": "ipython3",
   "version": "3.9.12"
  },
  "orig_nbformat": 4,
  "vscode": {
   "interpreter": {
    "hash": "29c897866ef87cec49b40e1ca8aed0914ba80b52099b760ffd407fc44dffaf16"
   }
  }
 },
 "nbformat": 4,
 "nbformat_minor": 2
}
