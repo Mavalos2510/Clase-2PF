{
 "cells": [
  {
   "cell_type": "markdown",
   "id": "8d1b6323",
   "metadata": {},
   "source": [
    "# Actividad 2"
   ]
  },
  {
   "cell_type": "code",
   "execution_count": 1,
   "id": "27dee352",
   "metadata": {},
   "outputs": [],
   "source": [
    "tupla1 = (\"Hola\", 5, 3.14, True, \"Adios\")"
   ]
  },
  {
   "cell_type": "code",
   "execution_count": 2,
   "id": "081ccbe7",
   "metadata": {},
   "outputs": [],
   "source": [
    "listatupla1 = list(tupla1)"
   ]
  },
  {
   "cell_type": "code",
   "execution_count": 5,
   "id": "958ad850",
   "metadata": {},
   "outputs": [],
   "source": [
    "keys = [1,2,3,4,5]\n",
    "dic1 = dict.fromkeys(keys)"
   ]
  },
  {
   "cell_type": "code",
   "execution_count": 6,
   "id": "ab67d4cd",
   "metadata": {},
   "outputs": [
    {
     "data": {
      "text/plain": [
       "{1: None, 2: None, 3: None, 4: None, 5: None}"
      ]
     },
     "execution_count": 6,
     "metadata": {},
     "output_type": "execute_result"
    }
   ],
   "source": [
    "dic1"
   ]
  },
  {
   "cell_type": "code",
   "execution_count": 14,
   "id": "b4e7a4de",
   "metadata": {},
   "outputs": [],
   "source": [
    "for i in keys:\n",
    "    dic1[i] = listatupla1[i-1]"
   ]
  },
  {
   "cell_type": "code",
   "execution_count": 15,
   "id": "d69f321f",
   "metadata": {},
   "outputs": [
    {
     "data": {
      "text/plain": [
       "{1: 'Hola', 2: 5, 3: 3.14, 4: True, 5: 'Adios'}"
      ]
     },
     "execution_count": 15,
     "metadata": {},
     "output_type": "execute_result"
    }
   ],
   "source": [
    "dic1"
   ]
  }
 ],
 "metadata": {
  "kernelspec": {
   "display_name": "Python 3 (ipykernel)",
   "language": "python",
   "name": "python3"
  },
  "language_info": {
   "codemirror_mode": {
    "name": "ipython",
    "version": 3
   },
   "file_extension": ".py",
   "mimetype": "text/x-python",
   "name": "python",
   "nbconvert_exporter": "python",
   "pygments_lexer": "ipython3",
   "version": "3.9.12"
  }
 },
 "nbformat": 4,
 "nbformat_minor": 5
}
