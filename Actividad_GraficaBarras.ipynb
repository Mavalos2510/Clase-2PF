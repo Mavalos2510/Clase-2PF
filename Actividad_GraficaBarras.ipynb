{
 "cells": [
  {
   "cell_type": "code",
   "execution_count": 2,
   "id": "80bfb53a",
   "metadata": {},
   "outputs": [],
   "source": [
    "import pandas as pd\n",
    "import matplotlib as plt"
   ]
  },
  {
   "cell_type": "code",
   "execution_count": 9,
   "id": "88fde572",
   "metadata": {},
   "outputs": [],
   "source": [
    "data = pd.read_csv(\"C:/Users/mavalos/OneDrive - deacero.com/Documentos/DLA/Curso Python/athlete_events.csv\")\n",
    "data = data[data[\"Medal\"].notna()]"
   ]
  },
  {
   "cell_type": "code",
   "execution_count": 24,
   "id": "28046e5e",
   "metadata": {},
   "outputs": [
    {
     "data": {
      "text/plain": [
       "NOC\n",
       "AFG      2\n",
       "AHO      1\n",
       "ALG     17\n",
       "ANZ     29\n",
       "ARG    274\n",
       "      ... \n",
       "VIE      4\n",
       "WIF      5\n",
       "YUG    390\n",
       "ZAM      2\n",
       "ZIM     22\n",
       "Name: Medal, Length: 149, dtype: int64"
      ]
     },
     "execution_count": 24,
     "metadata": {},
     "output_type": "execute_result"
    }
   ],
   "source": [
    "PMG = data.groupby([\"NOC\"])[\"Medal\"].count()\n",
    "PMG"
   ]
  },
  {
   "cell_type": "code",
   "execution_count": 25,
   "id": "5bdf6e07",
   "metadata": {},
   "outputs": [
    {
     "data": {
      "text/plain": [
       "<AxesSubplot:xlabel='NOC'>"
      ]
     },
     "execution_count": 25,
     "metadata": {},
     "output_type": "execute_result"
    },
    {
     "data": {
      "image/png": "[encoded data removed]",
      "text/plain": [
       "<Figure size 432x288 with 1 Axes>"
      ]
     },
     "metadata": {
      "needs_background": "light"
     },
     "output_type": "display_data"
    }
   ],
   "source": [
    "PMG = PMG.sort_values(ascending= False)\n",
    "PMG.head(10).plot(kind = \"bar\")"
   ]
  },
  {
   "cell_type": "code",
   "execution_count": 15,
   "id": "2a309686",
   "metadata": {},
   "outputs": [
    {
     "data": {
      "text/plain": [
       "NOC\n",
       "USA    5637\n",
       "URS    2503\n",
       "GER    2165\n",
       "GBR    2068\n",
       "FRA    1777\n",
       "Name: Medal, dtype: int64"
      ]
     },
     "execution_count": 15,
     "metadata": {},
     "output_type": "execute_result"
    }
   ],
   "source": [
    "PMG.head()"
   ]
  },
  {
   "cell_type": "code",
   "execution_count": null,
   "id": "77fe8a5d",
   "metadata": {},
   "outputs": [],
   "source": []
  }
 ],
 "metadata": {
  "kernelspec": {
   "display_name": "Python 3 (ipykernel)",
   "language": "python",
   "name": "python3"
  },
  "language_info": {
   "codemirror_mode": {
    "name": "ipython",
    "version": 3
   },
   "file_extension": ".py",
   "mimetype": "text/x-python",
   "name": "python",
   "nbconvert_exporter": "python",
   "pygments_lexer": "ipython3",
   "version": "3.9.12"
  }
 },
 "nbformat": 4,
 "nbformat_minor": 5
}
