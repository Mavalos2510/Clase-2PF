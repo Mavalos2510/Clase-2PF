{
 "cells": [
  {
   "cell_type": "code",
   "execution_count": 3,
   "id": "bbe2947b",
   "metadata": {},
   "outputs": [],
   "source": [
    "import numpy as np"
   ]
  },
  {
   "cell_type": "code",
   "execution_count": 4,
   "id": "80359c38",
   "metadata": {},
   "outputs": [],
   "source": [
    "vector = np.array(range(3,21))"
   ]
  },
  {
   "cell_type": "code",
   "execution_count": 5,
   "id": "c7d5f93d",
   "metadata": {},
   "outputs": [
    {
     "data": {
      "text/plain": [
       "array([ 3,  4,  5,  6,  7,  8,  9, 10, 11, 12, 13, 14, 15, 16, 17, 18, 19,\n",
       "       20])"
      ]
     },
     "execution_count": 5,
     "metadata": {},
     "output_type": "execute_result"
    }
   ],
   "source": [
    "vector"
   ]
  },
  {
   "cell_type": "code",
   "execution_count": 9,
   "id": "741a58d2",
   "metadata": {},
   "outputs": [],
   "source": [
    "vector2 = np.array(range(0,5))"
   ]
  },
  {
   "cell_type": "code",
   "execution_count": 11,
   "id": "c7d8c85a",
   "metadata": {},
   "outputs": [],
   "source": [
    "vector2 = np.append(vector2,vector2)"
   ]
  },
  {
   "cell_type": "code",
   "execution_count": 12,
   "id": "b1df716b",
   "metadata": {},
   "outputs": [
    {
     "data": {
      "text/plain": [
       "array([0, 1, 2, 3, 4, 0, 1, 2, 3, 4])"
      ]
     },
     "execution_count": 12,
     "metadata": {},
     "output_type": "execute_result"
    }
   ],
   "source": [
    "vector2"
   ]
  },
  {
   "cell_type": "code",
   "execution_count": 14,
   "id": "c89ba4e0",
   "metadata": {},
   "outputs": [],
   "source": [
    "vector2.sort()"
   ]
  },
  {
   "cell_type": "code",
   "execution_count": 15,
   "id": "6fa9d4af",
   "metadata": {},
   "outputs": [
    {
     "data": {
      "text/plain": [
       "array([0, 0, 1, 1, 2, 2, 3, 3, 4, 4])"
      ]
     },
     "execution_count": 15,
     "metadata": {},
     "output_type": "execute_result"
    }
   ],
   "source": [
    "vector2"
   ]
  }
 ],
 "metadata": {
  "kernelspec": {
   "display_name": "Python 3 (ipykernel)",
   "language": "python",
   "name": "python3"
  },
  "language_info": {
   "codemirror_mode": {
    "name": "ipython",
    "version": 3
   },
   "file_extension": ".py",
   "mimetype": "text/x-python",
   "name": "python",
   "nbconvert_exporter": "python",
   "pygments_lexer": "ipython3",
   "version": "3.9.12"
  }
 },
 "nbformat": 4,
 "nbformat_minor": 5
}
